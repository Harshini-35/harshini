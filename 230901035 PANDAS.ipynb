{
 "cells": [
  {
   "cell_type": "code",
   "execution_count": 5,
   "id": "cfd845d1",
   "metadata": {},
   "outputs": [
    {
     "name": "stdout",
     "output_type": "stream",
     "text": [
      "Empty DataFrame\n",
      "Columns: []\n",
      "Index: []\n"
     ]
    }
   ],
   "source": [
    "import pandas as pd\n",
    "df=pd.DataFrame()\n",
    "print(df)"
   ]
  },
  {
   "cell_type": "code",
   "execution_count": null,
   "id": "8f05d05e",
   "metadata": {},
   "outputs": [],
   "source": []
  },
  {
   "cell_type": "code",
   "execution_count": 6,
   "id": "7f591515",
   "metadata": {},
   "outputs": [
    {
     "name": "stdout",
     "output_type": "stream",
     "text": [
      "\n",
      " series to datafunction \n",
      "\n",
      "       Emp   ID\n",
      "0     mith   10\n",
      "1    varsh   20\n",
      "2    sweth   30\n",
      "3      abi   40\n",
      "4      sri   50\n",
      "5    harsh   60\n",
      "6   sanjay   70\n",
      "7   nandha   80\n",
      "8   seetha   90\n",
      "9     achu  100\n",
      "10   sound  110\n"
     ]
    }
   ],
   "source": [
    "emp=pd.Series(['mith','varsh','sweth','abi','sri','harsh','sanjay','nandha','seetha','achu','sound'])\n",
    "id=pd.Series([10,20,30,40,50,60,70,80,90,100,110])\n",
    "frame={'Emp':emp,'ID':id}\n",
    "result=pd.DataFrame(frame)\n",
    "print(\"\\n series to datafunction \\n\")\n",
    "print(result)"
   ]
  },
  {
   "cell_type": "code",
   "execution_count": 7,
   "id": "c3389228",
   "metadata": {},
   "outputs": [
    {
     "name": "stdout",
     "output_type": "stream",
     "text": [
      "       Emp   ID  Age\n",
      "0     mith   10   10\n",
      "1    varsh   20   20\n",
      "2    sweth   30   30\n",
      "3      abi   40   40\n",
      "4      sri   50   50\n",
      "5    harsh   60   60\n",
      "6   sanjay   70   70\n",
      "7   nandha   80   80\n",
      "8   seetha   90   90\n",
      "9     achu  100  100\n",
      "10   sound  110  110\n"
     ]
    }
   ],
   "source": [
    "result['Age']=pd.Series([10,20,30,40,50,60,70,80,90,100,110])\n",
    "print(result)"
   ]
  },
  {
   "cell_type": "raw",
   "id": "a74809b0",
   "metadata": {},
   "source": []
  },
  {
   "cell_type": "code",
   "execution_count": 8,
   "id": "e8182011",
   "metadata": {},
   "outputs": [
    {
     "name": "stdout",
     "output_type": "stream",
     "text": [
      "       Emp   ID\n",
      "0     mith   10\n",
      "1    varsh   20\n",
      "2    sweth   30\n",
      "3      abi   40\n",
      "4      sri   50\n",
      "5    harsh   60\n",
      "6   sanjay   70\n",
      "7   nandha   80\n",
      "8   seetha   90\n",
      "9     achu  100\n",
      "10   sound  110\n"
     ]
    }
   ],
   "source": [
    "del result['Age']\n",
    "print(result)"
   ]
  },
  {
   "cell_type": "code",
   "execution_count": 9,
   "id": "850c1a14",
   "metadata": {},
   "outputs": [
    {
     "name": "stdout",
     "output_type": "stream",
     "text": [
      "\n",
      " Extracting the second row\n",
      "\n",
      "Emp    varsh\n",
      "ID        20\n",
      "Name: 1, dtype: object\n"
     ]
    }
   ],
   "source": [
    "print(\"\\n Extracting the second row\\n\")\n",
    "print(result.loc[1])"
   ]
  },
  {
   "cell_type": "code",
   "execution_count": 11,
   "id": "5db5aedc",
   "metadata": {},
   "outputs": [
    {
     "name": "stdout",
     "output_type": "stream",
     "text": [
      "\n",
      " slice row\n",
      "\n",
      "     Emp  ID\n",
      "1  varsh  20\n",
      "2  sweth  30\n"
     ]
    }
   ],
   "source": [
    "print(\"\\n slice row\\n\")\n",
    "print(result[1:3])\n"
   ]
  },
  {
   "cell_type": "code",
   "execution_count": 13,
   "id": "a4f05290",
   "metadata": {},
   "outputs": [
    {
     "name": "stdout",
     "output_type": "stream",
     "text": [
      "       Emp   ID\n",
      "0     mith   10\n",
      "1    varsh   20\n",
      "3      abi   40\n",
      "4      sri   50\n",
      "5    harsh   60\n",
      "6   sanjay   70\n",
      "7   nandha   80\n",
      "8   seetha   90\n",
      "9     achu  100\n",
      "10   sound  110\n"
     ]
    }
   ],
   "source": [
    "print(result.drop(2))"
   ]
  },
  {
   "cell_type": "code",
   "execution_count": null,
   "id": "83e9fba5",
   "metadata": {},
   "outputs": [],
   "source": []
  }
 ],
 "metadata": {
  "kernelspec": {
   "display_name": "Python 3 (ipykernel)",
   "language": "python",
   "name": "python3"
  },
  "language_info": {
   "codemirror_mode": {
    "name": "ipython",
    "version": 3
   },
   "file_extension": ".py",
   "mimetype": "text/x-python",
   "name": "python",
   "nbconvert_exporter": "python",
   "pygments_lexer": "ipython3",
   "version": "3.11.5"
  }
 },
 "nbformat": 4,
 "nbformat_minor": 5
}
