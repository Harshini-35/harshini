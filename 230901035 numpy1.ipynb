{
 "cells": [
  {
   "cell_type": "code",
   "execution_count": 1,
   "id": "62cf48a8",
   "metadata": {},
   "outputs": [
    {
     "name": "stdout",
     "output_type": "stream",
     "text": [
      "One dimentional array: [10 20 30 40]\n"
     ]
    }
   ],
   "source": [
    "import numpy as np\n",
    "a=np.array([10,20,30,40])\n",
    "print(\"One dimentional array:\",a)"
   ]
  },
  {
   "cell_type": "code",
   "execution_count": 2,
   "id": "ba9b8a36",
   "metadata": {},
   "outputs": [
    {
     "name": "stdout",
     "output_type": "stream",
     "text": [
      "two dimentional array: [[10 20 30 40]\n",
      " [50 60 70 80]]\n"
     ]
    }
   ],
   "source": [
    "import numpy as np\n",
    "b=np.array([[10,20,30,40],[50,60,70,80]])\n",
    "print(\"two dimentional array:\",b)"
   ]
  },
  {
   "cell_type": "code",
   "execution_count": 3,
   "id": "5255da3c",
   "metadata": {},
   "outputs": [
    {
     "name": "stdout",
     "output_type": "stream",
     "text": [
      "threen dimentional array: [[ 10  20  30  40]\n",
      " [ 50  60  70  80]\n",
      " [ 90 100 110 120]]\n"
     ]
    }
   ],
   "source": [
    "import numpy as np\n",
    "c=np.array([[10,20,30,40],[50,60,70,80],[90,100,110,120]])\n",
    "print(\"threen dimentional array:\",c)"
   ]
  },
  {
   "cell_type": "code",
   "execution_count": 4,
   "id": "b8851158",
   "metadata": {},
   "outputs": [
    {
     "name": "stdout",
     "output_type": "stream",
     "text": [
      "\n",
      " arrary with all zeros:\n",
      " [[0. 0. 0. 0. 0.]\n",
      " [0. 0. 0. 0. 0.]\n",
      " [0. 0. 0. 0. 0.]]\n"
     ]
    }
   ],
   "source": [
    "import numpy as np\n",
    "d=np.zeros((3,5))\n",
    "print(\"\\n arrary with all zeros:\\n\",d)"
   ]
  },
  {
   "cell_type": "code",
   "execution_count": 5,
   "id": "c9473fe5",
   "metadata": {},
   "outputs": [
    {
     "name": "stdout",
     "output_type": "stream",
     "text": [
      "\n",
      " random value:\n",
      " [[0.45605227 0.58745077 0.17437553 0.60744015 0.62161791]\n",
      " [0.43938716 0.88532361 0.67435032 0.89411278 0.17207643]\n",
      " [0.98438829 0.45364909 0.03098065 0.02506514 0.21652936]\n",
      " [0.48264368 0.34619549 0.76917362 0.6046567  0.07313531]]\n"
     ]
    }
   ],
   "source": [
    "import numpy as np\n",
    "e=np.random.random((4,5))\n",
    "print(\"\\n random value:\\n\",e)"
   ]
  },
  {
   "cell_type": "code",
   "execution_count": 10,
   "id": "8a4ccca5",
   "metadata": {},
   "outputs": [
    {
     "name": "stdout",
     "output_type": "stream",
     "text": [
      "\n",
      " sequence array\n",
      " [0]\n"
     ]
    }
   ],
   "source": [
    "import numpy as np\n",
    "f=np.arange(0,6,7)\n",
    "print(\"\\n sequence array\\n\",f)"
   ]
  },
  {
   "cell_type": "code",
   "execution_count": 12,
   "id": "26691770",
   "metadata": {},
   "outputs": [
    {
     "name": "stdout",
     "output_type": "stream",
     "text": [
      "\n",
      " three dimensional array: [[ 1  2  3  4]\n",
      " [ 5  6  7  8]\n",
      " [ 9 10 11 12]]\n",
      "\n",
      " reshaped array:\n",
      " [[ 1  2  3]\n",
      " [ 4  5  6]\n",
      " [ 7  8  9]\n",
      " [10 11 12]]\n"
     ]
    }
   ],
   "source": [
    "import numpy as np\n",
    "g=np.array([[1,2,3,4],[5,6,7,8],[9,10,11,12]])\n",
    "newarray=c.reshape(4,3)\n",
    "print(\"\\n three dimensional array:\",g)\n",
    "print(\"\\n reshaped array:\\n\",newarray)"
   ]
  },
  {
   "cell_type": "code",
   "execution_count": 13,
   "id": "54855026",
   "metadata": {},
   "outputs": [
    {
     "name": "stdout",
     "output_type": "stream",
     "text": [
      "\n",
      " three dimensional array:\n",
      " [[ 1  2  3  4]\n",
      " [ 5  6  7  8]\n",
      " [ 9 10 11 12]]\n",
      "\n",
      " flatten array:\n",
      " [ 1  2  3  4  5  6  7  8  9 10 11 12]\n"
     ]
    }
   ],
   "source": [
    "import numpy as np\n",
    "arr=np.array([[1,2,3,4],[5,6,7,8],[9,10,11,12]])\n",
    "h=arr.flatten()\n",
    "print(\"\\n three dimensional array:\\n\",arr)\n",
    "print(\"\\n flatten array:\\n\",h)"
   ]
  },
  {
   "cell_type": "code",
   "execution_count": 14,
   "id": "de250fcc",
   "metadata": {},
   "outputs": [
    {
     "name": "stdout",
     "output_type": "stream",
     "text": [
      "[1. 2. 3.]\n"
     ]
    }
   ],
   "source": [
    "import numpy as np\n",
    "a=[1,2,3]\n",
    "a=np.array(a)\n",
    "newtype=a.astype('float64')\n",
    "print(newtype)\n"
   ]
  },
  {
   "cell_type": "code",
   "execution_count": 15,
   "id": "fecc882b",
   "metadata": {},
   "outputs": [
    {
     "name": "stdout",
     "output_type": "stream",
     "text": [
      "[9 8 7 6 5 4 3 2 1]\n"
     ]
    }
   ],
   "source": [
    "import numpy as np\n",
    "arr=np.array([1,2,3,4,5,6,7,8,9])\n",
    "slice=arr[::-1]\n",
    "print(slice)"
   ]
  },
  {
   "cell_type": "code",
   "execution_count": 16,
   "id": "d0fc66c1",
   "metadata": {},
   "outputs": [
    {
     "name": "stdout",
     "output_type": "stream",
     "text": [
      "[[2 3]\n",
      " [5 6]\n",
      " [8 9]]\n"
     ]
    }
   ],
   "source": [
    "arr=np.array([[1,2,3],[4,5,6],[7,8,9]])\n",
    "substring=arr[0:3,1:3]\n",
    "print(substring)"
   ]
  },
  {
   "cell_type": "code",
   "execution_count": 17,
   "id": "1e050796",
   "metadata": {},
   "outputs": [
    {
     "name": "stdout",
     "output_type": "stream",
     "text": [
      "[3 4 5 6]\n"
     ]
    }
   ],
   "source": [
    "import numpy as np\n",
    "arr=np.array([1,2,3,4,5,6,7,8,9])\n",
    "slice=arr[2:6]\n",
    "print(slice)"
   ]
  },
  {
   "cell_type": "code",
   "execution_count": 18,
   "id": "60af6191",
   "metadata": {},
   "outputs": [
    {
     "name": "stdout",
     "output_type": "stream",
     "text": [
      "substring:\n",
      " [[2 3]\n",
      " [5 6]\n",
      " [8 9]]\n",
      "columslicing:\n",
      " [1 4 7]\n"
     ]
    }
   ],
   "source": [
    "import numpy as np\n",
    "arr=np.array([[1,2,3],[4,5,6],[7,8,9]])\n",
    "substring=arr[0:3,1:3]\n",
    "print(\"substring:\\n\",substring)\n",
    "column1=arr[:,0]\n",
    "print(\"columslicing:\\n\",column1)"
   ]
  },
  {
   "cell_type": "code",
   "execution_count": 19,
   "id": "75a8a36e",
   "metadata": {},
   "outputs": [
    {
     "name": "stdout",
     "output_type": "stream",
     "text": [
      "rowslicing:\n",
      " [1 2 3]\n"
     ]
    }
   ],
   "source": [
    "import numpy as np\n",
    "row1=arr[0,:]\n",
    "print(\"rowslicing:\\n\",row1)"
   ]
  },
  {
   "cell_type": "code",
   "execution_count": 2,
   "id": "2970df58",
   "metadata": {},
   "outputs": [
    {
     "name": "stdout",
     "output_type": "stream",
     "text": [
      "[[4 5 6]\n",
      " [7 8 9]]\n"
     ]
    }
   ],
   "source": [
    "import numpy as np\n",
    "import array\n",
    "arr=np.array([[1,2,3],[4,5,6],[7,8,9]])\n",
    "print(arr[1:4])"
   ]
  },
  {
   "cell_type": "code",
   "execution_count": 1,
   "id": "0490caec",
   "metadata": {},
   "outputs": [
    {
     "name": "stdout",
     "output_type": "stream",
     "text": [
      "[[4 5 6]\n",
      " [7 8 9]]\n"
     ]
    }
   ],
   "source": [
    "import numpy as np\n",
    "import array\n",
    "arr=np.array([[1,2,3],[4,5,6],[7,8,9]])\n",
    "print(arr[1:4])"
   ]
  }
 ],
 "metadata": {
  "kernelspec": {
   "display_name": "Python 3 (ipykernel)",
   "language": "python",
   "name": "python3"
  },
  "language_info": {
   "codemirror_mode": {
    "name": "ipython",
    "version": 3
   },
   "file_extension": ".py",
   "mimetype": "text/x-python",
   "name": "python",
   "nbconvert_exporter": "python",
   "pygments_lexer": "ipython3",
   "version": "3.11.5"
  }
 },
 "nbformat": 4,
 "nbformat_minor": 5
}
