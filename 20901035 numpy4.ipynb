{
 "cells": [
  {
   "cell_type": "code",
   "execution_count": 9,
   "id": "e8825d88",
   "metadata": {},
   "outputs": [
    {
     "name": "stdout",
     "output_type": "stream",
     "text": [
      "[20 40 50 70 10]\n",
      "[2 3 4 5 6]\n",
      "[22 43 54 75 16]\n"
     ]
    }
   ],
   "source": [
    "#Vector_operation\n",
    "import numpy as np\n",
    "arr1=np.array([20,40,50,70,10])\n",
    "arr2=np.array([2,3,4,5,6])\n",
    "print(arr1)\n",
    "print(arr2)\n",
    "print(arr1+arr2)"
   ]
  },
  {
   "cell_type": "code",
   "execution_count": 10,
   "id": "50e0d8c6",
   "metadata": {},
   "outputs": [
    {
     "name": "stdout",
     "output_type": "stream",
     "text": [
      "[ 40 120 200 350  60]\n"
     ]
    }
   ],
   "source": [
    "#multiplication\n",
    "print(arr1*arr2)"
   ]
  },
  {
   "cell_type": "code",
   "execution_count": 11,
   "id": "4b68ad20",
   "metadata": {},
   "outputs": [
    {
     "name": "stdout",
     "output_type": "stream",
     "text": [
      "[18 37 46 65  4]\n"
     ]
    }
   ],
   "source": [
    "#subration\n",
    "print(arr1-arr2)"
   ]
  },
  {
   "cell_type": "code",
   "execution_count": 12,
   "id": "99150ece",
   "metadata": {},
   "outputs": [
    {
     "name": "stdout",
     "output_type": "stream",
     "text": [
      "[10.         13.33333333 12.5        14.          1.66666667]\n"
     ]
    }
   ],
   "source": [
    "#divisin\n",
    "print(arr1/arr2)"
   ]
  },
  {
   "cell_type": "code",
   "execution_count": 19,
   "id": "2f9bf52c",
   "metadata": {},
   "outputs": [
    {
     "name": "stdout",
     "output_type": "stream",
     "text": [
      "770\n",
      "scalar value: 3\n",
      "Array: [20 40 50 70 10]\n",
      "Result: [ 60 120 150 210  30]\n"
     ]
    }
   ],
   "source": [
    "#DOTproduct\n",
    "print(arr1.dot(arr2))\n",
    "sclr=3\n",
    "print(\"scalar value:\",sclr)\n",
    "print(\"Array:\",arr1)\n",
    "print(\"Result:\",arr1*sclr)"
   ]
  },
  {
   "cell_type": "code",
   "execution_count": 21,
   "id": "6caa9872",
   "metadata": {},
   "outputs": [],
   "source": [
    "def my_func(x,y):\n",
    "    if  x>y:\n",
    "        return x-y\n",
    "    else:\n",
    "        return x+y\n",
    "    arr1=np.array([20,0,50,70,10])\n",
    "    arr2=np.array([2,3,4,5,6])\n",
    "    vect_func=np.vectorize(my_func)\n",
    "    print(\"array 1:\",arr1)\n",
    "    print(\"array 2:\",arr2)\n",
    "    print(\"result:\",vect_func(arr1,arr2))"
   ]
  },
  {
   "cell_type": "code",
   "execution_count": null,
   "id": "652c7336",
   "metadata": {},
   "outputs": [],
   "source": []
  },
  {
   "cell_type": "code",
   "execution_count": null,
   "id": "edbab131",
   "metadata": {},
   "outputs": [],
   "source": []
  },
  {
   "cell_type": "code",
   "execution_count": null,
   "id": "8bb5533e",
   "metadata": {},
   "outputs": [],
   "source": []
  },
  {
   "cell_type": "code",
   "execution_count": null,
   "id": "fe9882a9",
   "metadata": {},
   "outputs": [],
   "source": []
  }
 ],
 "metadata": {
  "kernelspec": {
   "display_name": "Python 3 (ipykernel)",
   "language": "python",
   "name": "python3"
  },
  "language_info": {
   "codemirror_mode": {
    "name": "ipython",
    "version": 3
   },
   "file_extension": ".py",
   "mimetype": "text/x-python",
   "name": "python",
   "nbconvert_exporter": "python",
   "pygments_lexer": "ipython3",
   "version": "3.11.5"
  }
 },
 "nbformat": 4,
 "nbformat_minor": 5
}
