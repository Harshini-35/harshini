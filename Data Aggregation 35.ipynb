{
 "cells": [
  {
   "cell_type": "code",
   "execution_count": 5,
   "id": "010cab7f",
   "metadata": {},
   "outputs": [
    {
     "name": "stdout",
     "output_type": "stream",
     "text": [
      "\n",
      "Original DataFrame\n",
      "          A      B  C  D\n",
      "0      Abi    one  5  0\n",
      "1     Bala    two  2  2\n",
      "2  Charles  three  3  3\n",
      "3    Darun    one  5  2\n",
      "4      Abi    two  1  0\n",
      "5  Charles  three  1  5\n",
      "6    Darun    one  2  6\n"
     ]
    }
   ],
   "source": [
    "import pandas as pd\n",
    "import numpy as np\n",
    "df=pd.DataFrame({'A':['Abi','Bala','Charles','Darun','Abi','Charles','Darun'],'B':['one','two','three','one','two','three','one'],\n",
    "                 'C':np.random.randint(7,size=7),'D':np.random.randint(7,size=7)})\n",
    "print(\"\\nOriginal DataFrame\\n\",df)"
   ]
  },
  {
   "cell_type": "markdown",
   "id": "dbc8716e",
   "metadata": {},
   "source": []
  },
  {
   "cell_type": "code",
   "execution_count": 9,
   "id": "6b47b0d6",
   "metadata": {},
   "outputs": [
    {
     "name": "stdout",
     "output_type": "stream",
     "text": [
      "\n",
      "Original DataFrame\n",
      "          A      B  C  D\n",
      "0      Abi    one  5  0\n",
      "1     Bala    two  2  2\n",
      "2  Charles  three  3  3\n",
      "3    Darun    one  5  2\n",
      "4      Abi    two  1  0\n",
      "5  Charles  three  1  5\n",
      "6    Darun    one  2  6\n",
      "\n",
      "Grouped DataFrame\n",
      "          A  C\n",
      "0      Abi  6\n",
      "1     Bala  2\n",
      "2  Charles  4\n",
      "3    Darun  7\n"
     ]
    }
   ],
   "source": [
    "#Grouping with column\n",
    "df1=df.groupby(['A'],as_index=False)['C'].sum()\n",
    "print(\"\\nOriginal DataFrame\\n\",df)\n",
    "print(\"\\nGrouped DataFrame\\n\",df1)"
   ]
  },
  {
   "cell_type": "code",
   "execution_count": 10,
   "id": "50053539",
   "metadata": {},
   "outputs": [
    {
     "name": "stdout",
     "output_type": "stream",
     "text": [
      "\n",
      "Original DataFrame\n",
      "          A      B  C  D\n",
      "0      Abi    one  5  0\n",
      "1     Bala    two  2  2\n",
      "2  Charles  three  3  3\n",
      "3    Darun    one  5  2\n",
      "4      Abi    two  1  0\n",
      "5  Charles  three  1  5\n",
      "6    Darun    one  2  6\n",
      "\n",
      "Grouped DataFrame\n",
      "          A      B  C\n",
      "0      Abi    one  5\n",
      "1      Abi    two  1\n",
      "2     Bala    two  2\n",
      "3  Charles  three  4\n",
      "4    Darun    one  7\n"
     ]
    }
   ],
   "source": [
    "df2=df.groupby(['A','B'],as_index=False)['C'].sum()\n",
    "print(\"\\nOriginal DataFrame\\n\",df)\n",
    "print(\"\\nGrouped DataFrame\\n\",df2)"
   ]
  },
  {
   "cell_type": "code",
   "execution_count": 12,
   "id": "6cac80e9",
   "metadata": {},
   "outputs": [
    {
     "name": "stdout",
     "output_type": "stream",
     "text": [
      "\n",
      "Original DataFrame\n",
      "          A      B  C  D\n",
      "0      Abi    one  5  0\n",
      "1     Bala    two  2  2\n",
      "2  Charles  three  3  3\n",
      "3    Darun    one  5  2\n",
      "4      Abi    two  1  0\n",
      "5  Charles  three  1  5\n",
      "6    Darun    one  2  6\n",
      "\n",
      "Grouped DataFrame\n",
      "          A      B  C  D\n",
      "0      Abi    one  5  0\n",
      "1      Abi    two  1  0\n",
      "2     Bala    two  2  2\n",
      "3  Charles  three  4  8\n",
      "4    Darun    one  7  8\n"
     ]
    }
   ],
   "source": [
    "df3=df.groupby(['A','B'],as_index=False)[['C','D']].sum()\n",
    "print(\"\\nOriginal DataFrame\\n\",df)\n",
    "print(\"\\nGrouped DataFrame\\n\",df3)"
   ]
  },
  {
   "cell_type": "code",
   "execution_count": 15,
   "id": "d924f406",
   "metadata": {},
   "outputs": [
    {
     "name": "stdout",
     "output_type": "stream",
     "text": [
      "  Category  Sales  Profit\n",
      "0        A    100      10\n",
      "1        B    200      15\n",
      "2        C    150      20\n",
      "3        A    150      25\n",
      "4        B    130      30\n",
      "5        C    200      15\n",
      "         Sales        Profit    \n",
      "           sum   mean    sum max\n",
      "Category                        \n",
      "A          250  125.0     35  25\n",
      "B          330  165.0     45  30\n",
      "C          350  175.0     35  20\n"
     ]
    }
   ],
   "source": [
    "#Using groupby() with agg()\n",
    "import pandas as pd\n",
    "df=pd.DataFrame({'Category':['A','B','C','A','B','C'],'Sales':[100,200,150,150,130,200],\n",
    "                 'Profit':[10,15,20,25,30,15]})\n",
    "print(df)\n",
    "df1=df.groupby(\"Category\").agg({'Sales':['sum','mean'],'Profit':['sum','max']})\n",
    "print(df1)"
   ]
  },
  {
   "cell_type": "code",
   "execution_count": 26,
   "id": "586bf3d7",
   "metadata": {},
   "outputs": [
    {
     "name": "stdout",
     "output_type": "stream",
     "text": [
      "      Name  Marks  Attendence\n",
      "0  Mithali     92          98\n",
      "1   Varsha     87          77\n",
      "2    Harsh     88          80\n",
      "3   Swetha     96          89\n",
      "4      Abi     89          90\n",
      "        Marks       Attendence Percentage\n",
      "          sum  mean        sum           \n",
      "Name                                     \n",
      "Abi        89  89.0         90        NaN\n",
      "Harsh      88  88.0         80        NaN\n",
      "Mithali    92  92.0         98        NaN\n",
      "Swetha     96  96.0         89        NaN\n",
      "Varsha     87  87.0         77        NaN\n"
     ]
    }
   ],
   "source": [
    "import pandas as pd\n",
    "df=pd.DataFrame({'Name':['Mithali','Varsha','Harsh','Swetha','Abi'],'Marks':[92,87,88,96,89],\n",
    "                 'Attendence':[98,77,80,89,90]})\n",
    "print(df)\n",
    "df2=df.groupby(\"Name\").agg({'Marks':['sum','mean'],'Attendence':['sum']})\n",
    "df2['Percentage'] = df.groupby('Name')['Marks'].apply(lambda x: (x / x.sum()) * 100)\n",
    "print(df2)"
   ]
  },
  {
   "cell_type": "code",
   "execution_count": null,
   "id": "155a0aac",
   "metadata": {},
   "outputs": [],
   "source": []
  }
 ],
 "metadata": {
  "kernelspec": {
   "display_name": "Python 3 (ipykernel)",
   "language": "python",
   "name": "python3"
  },
  "language_info": {
   "codemirror_mode": {
    "name": "ipython",
    "version": 3
   },
   "file_extension": ".py",
   "mimetype": "text/x-python",
   "name": "python",
   "nbconvert_exporter": "python",
   "pygments_lexer": "ipython3",
   "version": "3.11.5"
  }
 },
 "nbformat": 4,
 "nbformat_minor": 5
}
